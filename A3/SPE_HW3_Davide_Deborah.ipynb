{
 "cells": [
  {
   "cell_type": "markdown",
   "metadata": {},
   "source": [
    "Davide Pasetto - 239941\n",
    "\n",
    "Deborah Aloisi - 249948"
   ]
  },
  {
   "cell_type": "markdown",
   "metadata": {},
   "source": [
    "# Exercise 1\n"
   ]
  }
 ],
 "metadata": {
  "language_info": {
   "name": "python"
  }
 },
 "nbformat": 4,
 "nbformat_minor": 2
}
